{
 "cells": [
  {
   "cell_type": "markdown",
   "metadata": {
    "collapsed": true
   },
   "source": [
    "#### 首先，在终端安装一下 itchat 包。"
   ]
  },
  {
   "cell_type": "markdown",
   "metadata": {},
   "source": [
    "##### pip install itchat"
   ]
  },
  {
   "cell_type": "markdown",
   "metadata": {},
   "source": [
    "安装完成后导入包，再登陆自己的微信。过程中会生产一个登陆二维码，扫码之后即可登陆。登陆成功后，把自己好友的相关信息爬下来。"
   ]
  },
  {
   "cell_type": "markdown",
   "metadata": {},
   "source": [
    "## 1、登录微信获取微信中的json信息"
   ]
  },
  {
   "cell_type": "code",
   "execution_count": 3,
   "metadata": {
    "scrolled": true
   },
   "outputs": [
    {
     "name": "stderr",
     "output_type": "stream",
     "text": [
      "itchat has already logged in.\n"
     ]
    }
   ],
   "source": [
    "import itchat\n",
    "itchat.login()\n",
    "# 爬取自己好友的相关信息，返回一个json文件\n",
    "friends = itchat.get_friends(update = True)[0:]"
   ]
  },
  {
   "cell_type": "markdown",
   "metadata": {},
   "source": [
    "上述代码运行后会生成一个二维码，使用微信扫描确认登录微信网页版\n",
    "\n",
    "有了上面的 friends 数据，我们就可以来做分析啦。"
   ]
  },
  {
   "cell_type": "markdown",
   "metadata": {},
   "source": [
    "## 2、自己微信好友的男女比例"
   ]
  },
  {
   "cell_type": "code",
   "execution_count": 32,
   "metadata": {},
   "outputs": [
    {
     "name": "stdout",
     "output_type": "stream",
     "text": [
      "您共有198个好友\n",
      "男性朋友：60.10%\n",
      "女性朋友:32.83%\n",
      "性别不明的好友：7.07%\n"
     ]
    }
   ],
   "source": [
    "# 初始化计数器\n",
    "male = female = other = 0\n",
    "# friends[0]是自己的信息，所以应该从friends[1]开始\n",
    "for person in friends[1:]:\n",
    "    sex = person[\"Sex\"]\n",
    "    if sex == 1:\n",
    "        male += 1\n",
    "    elif sex == 2:\n",
    "        female += 1\n",
    "    else:\n",
    "        other += 1\n",
    "# 计算朋友的总数\n",
    "total = len(friends[1:])\n",
    "# 打印出自己的好友性别比例\n",
    "malecol=round(float(male)/total*100,2)\n",
    "femalecol=round(float(female)/total*100,2)\n",
    "othercol=round(float(other)/total*100,2)\n",
    "print(\"您共有%d个好友\"%(total))\n",
    "print('男性朋友：%.2f%%' %(malecol)+'\\n'+'女性朋友:%.2f%%' % (femalecol)+'\\n'+'性别不明的好友：%.2f%%' %(othercol))"
   ]
  },
  {
   "cell_type": "markdown",
   "metadata": {},
   "source": [
    "啊，看看这个结果，我是老惨了..."
   ]
  },
  {
   "cell_type": "code",
   "execution_count": 26,
   "metadata": {},
   "outputs": [
    {
     "data": {
      "image/png": "[encoded data removed]",
      "text/plain": [
       "<matplotlib.figure.Figure at 0xaf2b9e8>"
      ]
     },
     "metadata": {},
     "output_type": "display_data"
    },
    {
     "data": {
      "image/png": "[encoded data removed]",
      "text/plain": [
       "<matplotlib.figure.Figure at 0xafbc668>"
      ]
     },
     "metadata": {},
     "output_type": "display_data"
    }
   ],
   "source": [
    "import numpy as np\n",
    "import matplotlib.pyplot as plt\n",
    "import matplotlib as mpl\n",
    "# #解决中文乱码不显示问题\n",
    "# mpl.rcParams['font.sans-serif'] = ['SimHei'] #指定默认字体 \n",
    "# mpl.rcParams['axes.unicode_minus'] = False #解决保存图像是负号'-'显示为方块的问题 \n",
    "map = {\n",
    " 'Female': (malecol, '#7199cf'),\n",
    " 'Male': (femalecol, '#4fc4aa'),\n",
    " 'other': (othercol, '#e1a7a2')\n",
    "}\n",
    " \n",
    "fig = plt.figure(figsize=(5,5))# 整体图的大小\n",
    "ax = fig.add_subplot(111)#添加一个子图\n",
    "ax.set_title('Gender of friends')\n",
    " \n",
    "xticks = np.arange(3)+0.15# 生成x轴每个元素的位置\n",
    "bar_width = 0.5# 定义柱状图每个柱的宽度\n",
    "names = map.keys()#获得x轴的值\n",
    "values = [x[0] for x in map.values()]# y轴的值\n",
    "colors = [x[1] for x in map.values()]# 对应颜色\n",
    " \n",
    "bars = ax.bar(xticks, values, width=bar_width, edgecolor='none')# 画柱状图，横轴是x的位置，纵轴是y，定义柱的宽度，同时设置柱的边缘为透明\n",
    "ax.set_ylabel('Proprotion')# 设置标题\n",
    "ax.set_xlabel('Gender')\n",
    "ax.grid()#打开网格\n",
    "ax.set_xticks(xticks)# x轴每个标签的具体位置\n",
    "ax.set_xticklabels(names)# 设置每个标签的名字\n",
    "ax.set_xlim([bar_width/2-0.5, 3-bar_width/2])# 设置x轴的范围\n",
    "ax.set_ylim([0, 100])# 设置y轴的范围\n",
    "for bar, color in zip(bars, colors):\n",
    "    bar.set_color(color)# 给每个bar分配指定的颜色\n",
    "    height=bar.get_height()#获得高度并且让字居上一点\n",
    "    plt.text(bar.get_x()+bar.get_width()/4.,height,'%.2f%%' %float(height))#写值\n",
    "plt.show()\n",
    "#画饼状图\n",
    "fig1 = plt.figure(figsize=(5,5))# 整体图的标题\n",
    "ax = fig1.add_subplot(111)\n",
    "ax.set_title('Pie chart')\n",
    "labels = ['{}\\n{} %'.format(name, value) for name, value in zip(names, values)]\n",
    "ax.pie(values, labels=labels, colors=colors)#并指定标签和对应颜色\n",
    "plt.show()"
   ]
  },
  {
   "cell_type": "markdown",
   "metadata": {},
   "source": [
    "## 3、省份分类并根据个数对其排序"
   ]
  },
  {
   "cell_type": "code",
   "execution_count": 28,
   "metadata": {
    "collapsed": true
   },
   "outputs": [],
   "source": [
    "#用来爬取各个变量\n",
    "def get_var(var):\n",
    "    variable=[]\n",
    "    for i in friends:\n",
    "        value=i[var]\n",
    "        variable.append(value)\n",
    "    return variable\n",
    " \n",
    "#调用函数得到各个变量，并把数据存到csv文件中，保存到桌面\n",
    "NickName=get_var('NickName')\n",
    "Sex=get_var('Sex')\n",
    "Province=get_var('Province')\n",
    "City=get_var('City')\n",
    "Signature=get_var('Signature')\n",
    " \n",
    "pros=set(Province)#去重\n",
    "prosarray=[]\n",
    "for item in pros:\n",
    "    prosarray.append((item,Province.count(item)))#获取个数\n",
    "def by_num(p):\n",
    "    return p[1]\n",
    "prosdsored=sorted(prosarray,key=by_num,reverse=True)#根据个数排序"
   ]
  },
  {
   "cell_type": "markdown",
   "metadata": {},
   "source": [
    "## 画省份图："
   ]
  },
  {
   "cell_type": "code",
   "execution_count": 31,
   "metadata": {},
   "outputs": [
    {
     "data": {
      "image/png": "[encoded data removed]",
      "text/plain": [
       "<matplotlib.figure.Figure at 0xb43b7b8>"
      ]
     },
     "metadata": {},
     "output_type": "display_data"
    }
   ],
   "source": [
    "#画图\n",
    "figpro = plt.figure(figsize=(10,5))# 整体图的标题\n",
    "axpro = figpro.add_subplot(111)#添加一个子图\n",
    "axpro.set_title('Province')\n",
    "xticks = np.linspace(0.5,20,20)# 生成x轴每个元素的位置\n",
    "bar_width = 0.8# 定义柱状图每个柱的宽度\n",
    "pros=[]\n",
    "values = []\n",
    "count=0\n",
    "for item in prosdsored:\n",
    "    pros.append(item[0])\n",
    "    values.append(item[1])\n",
    "    count=count+1\n",
    "    if count>=20:\n",
    "        break\n",
    " \n",
    "colors = ['#FFEC8B','#FFE4C4','#FFC125','#FFB6C1','#CDCDB4','#CDC8B1','#CDB79E','#CDAD00','#CD96CD','#CD853F','#C1FFC1','#C0FF3E','#BEBEBE','#CD5C5C','#CD3700','#CD2626','#8B8970','#8B6914','#8B5F65','#8B2252']# 对应颜色\n",
    " \n",
    "bars = axpro.bar(xticks, values, width=bar_width, edgecolor='none')\n",
    "axpro.set_ylabel('人数')# 设置标题\n",
    "axpro.set_xlabel('省份')\n",
    "axpro.grid()#打开网格\n",
    "axpro.set_xticks(xticks)# x轴每个标签的具体位置\n",
    "axpro.set_xticklabels(pros)# 设置每个标签的名字\n",
    "axpro.set_xlim(0,20)# 设置x轴的范围\n",
    "axpro.set_ylim([0, 100])# 设置y轴的范围\n",
    " \n",
    "for bar, color in zip(bars, colors):\n",
    "    bar.set_color(color)# 给每个bar分配指定的颜色\n",
    "    height=bar.get_height()#获得高度并且让字居上一点\n",
    "    plt.text(bar.get_x()+bar.get_width()/4.,height,'%.d' %float(height))#写值\n",
    " \n",
    "plt.show()"
   ]
  }
 ],
 "metadata": {
  "kernelspec": {
   "display_name": "Python 3",
   "language": "python",
   "name": "python3"
  },
  "language_info": {
   "codemirror_mode": {
    "name": "ipython",
    "version": 3
   },
   "file_extension": ".py",
   "mimetype": "text/x-python",
   "name": "python",
   "nbconvert_exporter": "python",
   "pygments_lexer": "ipython3",
   "version": "3.6.3"
  }
 },
 "nbformat": 4,
 "nbformat_minor": 1
}
